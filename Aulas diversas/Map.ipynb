{
 "cells": [
  {
   "cell_type": "markdown",
   "metadata": {},
   "source": [
    "Map - aplica uma função em cada item de uma lista de itens"
   ]
  },
  {
   "cell_type": "code",
   "execution_count": 1,
   "metadata": {},
   "outputs": [],
   "source": [
    "precos = [1000, 1500, 1250, 2500]\n",
    "\n",
    "def adicionar_imposto(preco):\n",
    "    return preco * 1.1"
   ]
  },
  {
   "cell_type": "code",
   "execution_count": 8,
   "metadata": {},
   "outputs": [
    {
     "name": "stdout",
     "output_type": "stream",
     "text": [
      "[1100.0]\n",
      "[1100.0, 1650.0000000000002]\n",
      "[1100.0, 1650.0000000000002, 1375.0]\n",
      "[1100.0, 1650.0000000000002, 1375.0, 2750.0]\n"
     ]
    }
   ],
   "source": [
    "precos_com_imposto = []\n",
    "for preco in precos:\n",
    "    precos_com_imposto.append(adicionar_imposto(preco))\n",
    "\n",
    "    print(precos_com_imposto)"
   ]
  },
  {
   "cell_type": "code",
   "execution_count": 9,
   "metadata": {},
   "outputs": [
    {
     "name": "stdout",
     "output_type": "stream",
     "text": [
      "[1100.0, 1650.0000000000002, 1375.0, 2750.0]\n"
     ]
    }
   ],
   "source": [
    "precos_com_imposto2 = list(map(adicionar_imposto, precos))\n",
    "\n",
    "print(precos_com_imposto2)"
   ]
  }
 ],
 "metadata": {
  "kernelspec": {
   "display_name": "Python 3",
   "language": "python",
   "name": "python3"
  },
  "language_info": {
   "codemirror_mode": {
    "name": "ipython",
    "version": 3
   },
   "file_extension": ".py",
   "mimetype": "text/x-python",
   "name": "python",
   "nbconvert_exporter": "python",
   "pygments_lexer": "ipython3",
   "version": "3.11.4"
  }
 },
 "nbformat": 4,
 "nbformat_minor": 2
}
