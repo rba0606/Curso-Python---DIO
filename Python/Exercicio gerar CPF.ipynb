{
 "cells": [
  {
   "cell_type": "markdown",
   "metadata": {},
   "source": [
    "\"\"\"\n",
    "Calculo do primeiro dígito do CPF\n",
    "CPF: 746.824.890-70\n",
    "Colete a soma dos 9 primeiros dígitos do CPF\n",
    "multiplicando cada um dos valores por uma\n",
    "contagem regressiva começando de 10\n",
    "\n",
    "Ex.:  746.824.890-70 (746824890)\n",
    "   10  9  8  7  6  5  4  3  2\n",
    "*  7   4  6  8  2  4  8  9  0\n",
    "   70  36 48 56 12 20 32 27 0\n",
    "\n",
    "Somar todos os resultados: \n",
    "70+36+48+56+12+20+32+27+0 = 301\n",
    "Multiplicar o resultado anterior por 10\n",
    "301 * 10 = 3010\n",
    "Obter o resto da divisão da conta anterior por 11\n",
    "3010 % 11 = 7\n",
    "Se o resultado anterior for maior que 9:\n",
    "    resultado é 0\n",
    "contrário disso:\n",
    "    resultado é o valor da conta\n",
    "\n",
    "O primeiro dígito do CPF é 7\n",
    "\"\"\""
   ]
  },
  {
   "cell_type": "code",
   "execution_count": 2,
   "metadata": {},
   "outputs": [
    {
     "name": "stdout",
     "output_type": "stream",
     "text": [
      "746824890\n"
     ]
    }
   ],
   "source": [
    "cpf = \"74682489070\"\n",
    "nove_digitos = cpf[:9]\n",
    "\n",
    "print(nove_digitos)"
   ]
  }
 ],
 "metadata": {
  "kernelspec": {
   "display_name": "Python 3",
   "language": "python",
   "name": "python3"
  },
  "language_info": {
   "codemirror_mode": {
    "name": "ipython",
    "version": 3
   },
   "file_extension": ".py",
   "mimetype": "text/x-python",
   "name": "python",
   "nbconvert_exporter": "python",
   "pygments_lexer": "ipython3",
   "version": "3.11.4"
  }
 },
 "nbformat": 4,
 "nbformat_minor": 2
}
