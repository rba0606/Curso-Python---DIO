{
 "cells": [
  {
   "cell_type": "markdown",
   "metadata": {},
   "source": [
    "Introdução às funções (def) em Python\n",
    "Funções são trechos de código usados para \n",
    "replicar determinada ação ao longo do seu código.\n",
    "Elas podem receber valores para parâmetros (argumentos) \n",
    "e retornar um valor específico.\n",
    "Por padrão, funções Python retornam None (nada)."
   ]
  },
  {
   "cell_type": "code",
   "execution_count": 1,
   "metadata": {},
   "outputs": [
    {
     "name": "stdout",
     "output_type": "stream",
     "text": [
      "Olá, Rafael!\n",
      "Olá, mariana!\n"
     ]
    }
   ],
   "source": [
    "def saudacao(nome):\n",
    "    print(f'Olá, {nome}!')   \n",
    "\n",
    "\n",
    "saudacao('Rafael')\n",
    "saudacao('mariana')\n",
    "   "
   ]
  },
  {
   "cell_type": "code",
   "execution_count": 2,
   "metadata": {},
   "outputs": [
    {
     "name": "stdout",
     "output_type": "stream",
     "text": [
      "3\n",
      "8\n",
      "300\n"
     ]
    }
   ],
   "source": [
    "def soma(x, y):\n",
    "    print(x + y)\n",
    "\n",
    "soma(1, 2)\n",
    "soma(3, 5)\n",
    "soma(100, 200)"
   ]
  },
  {
   "cell_type": "code",
   "execution_count": 4,
   "metadata": {},
   "outputs": [
    {
     "name": "stdout",
     "output_type": "stream",
     "text": [
      "120\n"
     ]
    }
   ],
   "source": [
    "def multiplicar(*args):\n",
    "    total = 1   \n",
    "    for numero in args:\n",
    "        total *= numero\n",
    "    return total\n",
    "\n",
    "multiplicação = multiplicar(1, 2, 3, 4, 5) \n",
    "print(multiplicação)   "
   ]
  },
  {
   "cell_type": "code",
   "execution_count": null,
   "metadata": {},
   "outputs": [],
   "source": []
  }
 ],
 "metadata": {
  "kernelspec": {
   "display_name": "Python 3",
   "language": "python",
   "name": "python3"
  },
  "language_info": {
   "codemirror_mode": {
    "name": "ipython",
    "version": 3
   },
   "file_extension": ".py",
   "mimetype": "text/x-python",
   "name": "python",
   "nbconvert_exporter": "python",
   "pygments_lexer": "ipython3",
   "version": "3.11.4"
  }
 },
 "nbformat": 4,
 "nbformat_minor": 2
}
