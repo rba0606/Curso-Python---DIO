{
 "cells": [
  {
   "cell_type": "markdown",
   "metadata": {},
   "source": [
    "função print utiliza-se  sep=\" \"  para incluir um separador"
   ]
  },
  {
   "cell_type": "code",
   "execution_count": 5,
   "metadata": {},
   "outputs": [
    {
     "name": "stdout",
     "output_type": "stream",
     "text": [
      "12-34\n"
     ]
    }
   ],
   "source": [
    "print(12,34, sep=\"-\")"
   ]
  },
  {
   "cell_type": "markdown",
   "metadata": {},
   "source": [
    "Posso utilizar aspas duplas dentro de aspas simples"
   ]
  },
  {
   "cell_type": "code",
   "execution_count": 1,
   "metadata": {},
   "outputs": [
    {
     "name": "stdout",
     "output_type": "stream",
     "text": [
      "Luiz \"Otavio\"\n"
     ]
    }
   ],
   "source": [
    "print('Luiz \"Otavio\"')"
   ]
  },
  {
   "cell_type": "markdown",
   "metadata": {},
   "source": [
    "Tudo o que está entre aspas é uma string"
   ]
  },
  {
   "cell_type": "markdown",
   "metadata": {},
   "source": [
    "Type, me mostra a classe do arquivo"
   ]
  },
  {
   "cell_type": "markdown",
   "metadata": {},
   "source": [
    "Float, são numeros com casas decimais"
   ]
  },
  {
   "cell_type": "markdown",
   "metadata": {},
   "source": [
    "Variavel = expressão ou seja posso criar uma variavel para substituir uma expressão"
   ]
  },
  {
   "cell_type": "code",
   "execution_count": 1,
   "metadata": {},
   "outputs": [
    {
     "name": "stdout",
     "output_type": "stream",
     "text": [
      "Rafael de Brio Albuquerque\n"
     ]
    }
   ],
   "source": [
    "nome_completo = 'Rafael de Brio Albuquerque'\n",
    "print(nome_completo)"
   ]
  },
  {
   "cell_type": "code",
   "execution_count": 3,
   "metadata": {},
   "outputs": [
    {
     "name": "stdout",
     "output_type": "stream",
     "text": [
      "Nome: rafael\n",
      "idade: 41\n",
      "É maior? True\n"
     ]
    }
   ],
   "source": [
    "nome = 'rafael'\n",
    "idade = 41\n",
    "maior_de_idade = idade >= 18\n",
    "print('Nome:', nome)\n",
    "print('idade:', idade)\n",
    "print('É maior?', maior_de_idade)"
   ]
  },
  {
   "cell_type": "code",
   "execution_count": 6,
   "metadata": {},
   "outputs": [
    {
     "name": "stdout",
     "output_type": "stream",
     "text": [
      "nome: Rafael\n",
      "idade: 41\n",
      "ano_nascimento: 1982\n",
      "É maior de idade: True\n",
      "altura_em_metros: 1.8\n"
     ]
    }
   ],
   "source": [
    "nome = 'Rafael'\n",
    "idade = 41\n",
    "ano_nascimento = 2023 - idade\n",
    "maior_de_idade = idade >= 18\n",
    "altura_em_metros = 1.80\n",
    "print('nome:', nome)\n",
    "print('idade:', idade)\n",
    "print('ano_nascimento:', ano_nascimento)\n",
    "print('É maior de idade:', maior_de_idade)\n",
    "print('altura_em_metros:', altura_em_metros)\n",
    "\n",
    "\n"
   ]
  }
 ],
 "metadata": {
  "kernelspec": {
   "display_name": "Python 3",
   "language": "python",
   "name": "python3"
  },
  "language_info": {
   "codemirror_mode": {
    "name": "ipython",
    "version": 3
   },
   "file_extension": ".py",
   "mimetype": "text/x-python",
   "name": "python",
   "nbconvert_exporter": "python",
   "pygments_lexer": "ipython3",
   "version": "3.11.4"
  },
  "orig_nbformat": 4
 },
 "nbformat": 4,
 "nbformat_minor": 2
}
