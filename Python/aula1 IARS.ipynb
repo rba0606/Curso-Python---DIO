{
 "cells": [
  {
   "cell_type": "code",
   "execution_count": 1,
   "metadata": {},
   "outputs": [
    {
     "name": "stdout",
     "output_type": "stream",
     "text": [
      "a = 10; b = 20\n",
      "a é diferente de b\n",
      "a é diferente de b\n"
     ]
    }
   ],
   "source": [
    "a = 10\n",
    "b = 20\n",
    "print('a = ' +str(a)+'; b = '+str(b))\n",
    "\n",
    "if a== b:\n",
    "    print('a é igual a b')\n",
    "else:\n",
    "    print('a é diferente de b')\n",
    "\n",
    "if a != b:\n",
    "    print('a é diferente de b')\n",
    "else:\n",
    "    print('a é igual a b')"
   ]
  },
  {
   "cell_type": "markdown",
   "metadata": {},
   "source": [
    "Operador In (contem no texto)"
   ]
  },
  {
   "cell_type": "code",
   "execution_count": 3,
   "metadata": {},
   "outputs": [
    {
     "name": "stdout",
     "output_type": "stream",
     "text": [
      "True\n",
      "False\n"
     ]
    }
   ],
   "source": [
    "texto = 'Olá, como você está?'\n",
    "print('como' in texto)\n",
    "print('rafael' in texto)"
   ]
  },
  {
   "cell_type": "markdown",
   "metadata": {},
   "source": [
    "Operador Is ( se as variaveis são iguais)"
   ]
  },
  {
   "cell_type": "code",
   "execution_count": 5,
   "metadata": {},
   "outputs": [
    {
     "name": "stdout",
     "output_type": "stream",
     "text": [
      "True\n",
      "False\n"
     ]
    }
   ],
   "source": [
    "x = [1,2,3]\n",
    "y = x\n",
    "print(x is y)\n",
    "\n",
    "a = [1,2,3]\n",
    "b = [1,2,3]\n",
    "print(a is b)"
   ]
  },
  {
   "cell_type": "code",
   "execution_count": 12,
   "metadata": {},
   "outputs": [
    {
     "name": "stdout",
     "output_type": "stream",
     "text": [
      "x é positivo\n"
     ]
    }
   ],
   "source": [
    "x = 0\n",
    "\n",
    "if x >= 0:\n",
    "    print('x é positivo')\n",
    "\n",
    "else:\n",
    "    print('x é negativo')\n"
   ]
  },
  {
   "cell_type": "code",
   "execution_count": 4,
   "metadata": {},
   "outputs": [
    {
     "name": "stdout",
     "output_type": "stream",
     "text": [
      "Você acertou! o numero era  12\n"
     ]
    }
   ],
   "source": [
    "numero_sorteado = 12\n",
    "palpite = 0\n",
    "while palpite != numero_sorteado:\n",
    "    palpite = int(input(\"Digite seu palpite (num inteiro positivo): \"))\n",
    "\n",
    "print('Você acertou! o numero era ', numero_sorteado)"
   ]
  },
  {
   "cell_type": "code",
   "execution_count": 4,
   "metadata": {},
   "outputs": [
    {
     "name": "stdout",
     "output_type": "stream",
     "text": [
      "3.3333333333333335\n"
     ]
    }
   ],
   "source": [
    "x = 10\n",
    "y = 3\n",
    "resultado = x / y\n",
    "print(resultado)"
   ]
  },
  {
   "cell_type": "code",
   "execution_count": 8,
   "metadata": {},
   "outputs": [
    {
     "name": "stdout",
     "output_type": "stream",
     "text": [
      "condição A\n"
     ]
    }
   ],
   "source": [
    "x = 12\n",
    "y = 4\n",
    "\n",
    "if x % y == 0 and x /y > 1:\n",
    "    print('condição A')\n",
    "elif x % y != 0 or x / y <= 1:\n",
    "    print('Condição B')\n",
    "else:\n",
    "    print('Condição C')"
   ]
  }
 ],
 "metadata": {
  "kernelspec": {
   "display_name": "Python 3",
   "language": "python",
   "name": "python3"
  },
  "language_info": {
   "codemirror_mode": {
    "name": "ipython",
    "version": 3
   },
   "file_extension": ".py",
   "mimetype": "text/x-python",
   "name": "python",
   "nbconvert_exporter": "python",
   "pygments_lexer": "ipython3",
   "version": "3.11.4"
  },
  "orig_nbformat": 4
 },
 "nbformat": 4,
 "nbformat_minor": 2
}
