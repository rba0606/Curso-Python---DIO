{
 "cells": [
  {
   "cell_type": "code",
   "execution_count": 1,
   "metadata": {},
   "outputs": [
    {
     "name": "stdout",
     "output_type": "stream",
     "text": [
      "modulo 1\n"
     ]
    }
   ],
   "source": [
    "modulo = 55 % 2\n",
    "print('modulo', modulo)"
   ]
  },
  {
   "cell_type": "markdown",
   "metadata": {},
   "source": [
    "Concatenação é a junção dos valores"
   ]
  },
  {
   "cell_type": "code",
   "execution_count": 2,
   "metadata": {},
   "outputs": [
    {
     "name": "stdout",
     "output_type": "stream",
     "text": [
      "abc\n"
     ]
    }
   ],
   "source": [
    "concatenacao = 'a' + 'b' + 'c'\n",
    "print(concatenacao)"
   ]
  },
  {
   "cell_type": "markdown",
   "metadata": {},
   "source": [
    "Repetição é a junção de valores com  letras e números"
   ]
  },
  {
   "cell_type": "code",
   "execution_count": 3,
   "metadata": {},
   "outputs": [
    {
     "name": "stdout",
     "output_type": "stream",
     "text": [
      "AAAAAAAAAA\n"
     ]
    }
   ],
   "source": [
    "a_dez_vezes = 'A' * 10\n",
    "print(a_dez_vezes)"
   ]
  },
  {
   "cell_type": "code",
   "execution_count": 11,
   "metadata": {},
   "outputs": [
    {
     "name": "stdout",
     "output_type": "stream",
     "text": [
      "Rafeal Albuquerque tem 1.8 de altura,\n",
      "pesa 95 kg,\n",
      "imc é igual a 95.0\n"
     ]
    }
   ],
   "source": [
    "nome = 'Rafeal Albuquerque'\n",
    "altura = 1.80\n",
    "peso = 95\n",
    "imc = peso / altura * altura \n",
    "print(nome, 'tem', altura, 'de altura,')\n",
    "print('pesa', peso, 'kg,')\n",
    "print('imc é igual a', imc)\n"
   ]
  },
  {
   "cell_type": "markdown",
   "metadata": {},
   "source": [
    "Usando f - strings (formatação)"
   ]
  },
  {
   "cell_type": "code",
   "execution_count": 13,
   "metadata": {},
   "outputs": [
    {
     "name": "stdout",
     "output_type": "stream",
     "text": [
      "Rafeal Albuquerque tem 1.80 de altura\n"
     ]
    }
   ],
   "source": [
    "linha_1 = f'{nome} tem {altura:.2f} de altura'\n",
    "print(linha_1)"
   ]
  },
  {
   "cell_type": "code",
   "execution_count": 15,
   "metadata": {},
   "outputs": [
    {
     "name": "stdout",
     "output_type": "stream",
     "text": [
      "pesa 95 qulios e seu imc é \n"
     ]
    }
   ],
   "source": [
    "linha_2 = f'pesa {peso} qulios e seu imc é '\n",
    "print(linha_2)"
   ]
  },
  {
   "cell_type": "code",
   "execution_count": 17,
   "metadata": {},
   "outputs": [
    {
     "name": "stdout",
     "output_type": "stream",
     "text": [
      "seu imc é: 95.00\n"
     ]
    }
   ],
   "source": [
    "linha_3 = f'seu imc é: {imc:.2f}'\n",
    "print(linha_3)"
   ]
  },
  {
   "cell_type": "markdown",
   "metadata": {},
   "source": [
    "Input, coleta dados do usuário"
   ]
  },
  {
   "cell_type": "code",
   "execution_count": 23,
   "metadata": {},
   "outputs": [
    {
     "data": {
      "text/plain": [
       "'rafael'"
      ]
     },
     "execution_count": 23,
     "metadata": {},
     "output_type": "execute_result"
    }
   ],
   "source": [
    "input('Qual o seu nome? ')\n"
   ]
  },
  {
   "cell_type": "code",
   "execution_count": 27,
   "metadata": {},
   "outputs": [
    {
     "name": "stdout",
     "output_type": "stream",
     "text": [
      "A soma dos números é: 6\n"
     ]
    }
   ],
   "source": [
    "numero_1 = int(input('Digite um número: '))\n",
    "numero_2 = int(input('Digite outro número: '))\n",
    "print(f'A soma dos números é: {numero_1 + numero_2}')"
   ]
  },
  {
   "cell_type": "markdown",
   "metadata": {},
   "source": [
    "If (SE),   elif(se não se),     else(se não)"
   ]
  },
  {
   "cell_type": "code",
   "execution_count": 34,
   "metadata": {},
   "outputs": [
    {
     "name": "stdout",
     "output_type": "stream",
     "text": [
      "Digite entrar ou sair, BURRO.\n"
     ]
    }
   ],
   "source": [
    "entrada = input('Você quer \"entrar\" ou \"sair\"? ')\n",
    "\n",
    "if entrada == 'entrar':\n",
    "    print('Você entrou no sistema, PARABENS')\n",
    "elif entrada == 'sair':\n",
    "    print('Você saiu do sistema, TCHAU')\n",
    "else: \n",
    "    print('Digite entrar ou sair, BURRO.')"
   ]
  },
  {
   "cell_type": "markdown",
   "metadata": {},
   "source": [
    "Operadores de comparação (realcionais)"
   ]
  },
  {
   "cell_type": "code",
   "execution_count": 17,
   "metadata": {},
   "outputs": [
    {
     "name": "stdout",
     "output_type": "stream",
     "text": [
      "segundo_valor='2' é maior do que primeiro_valor='0'\n"
     ]
    }
   ],
   "source": [
    "primeiro_valor = input('digite um valor: ')\n",
    "segundo_valor = input('Digite outro valor: ')\n",
    "\n",
    "if primeiro_valor >= segundo_valor:\n",
    "    print(f'{primeiro_valor=} é maior ou igual ao que {segundo_valor=}')\n",
    "\n",
    "else:\n",
    "    print(f'{segundo_valor=} é maior do que {primeiro_valor=}')   "
   ]
  },
  {
   "cell_type": "markdown",
   "metadata": {},
   "source": [
    "Operadores Lógicos - and - or - not"
   ]
  },
  {
   "cell_type": "code",
   "execution_count": 20,
   "metadata": {},
   "outputs": [
    {
     "name": "stdout",
     "output_type": "stream",
     "text": [
      "False\n"
     ]
    }
   ],
   "source": [
    "print(True and True and False)"
   ]
  },
  {
   "cell_type": "code",
   "execution_count": 30,
   "metadata": {},
   "outputs": [
    {
     "name": "stdout",
     "output_type": "stream",
     "text": [
      "Senha incorreta\n"
     ]
    }
   ],
   "source": [
    "entrada = input('[E]ntrar [S]air: ')\n",
    "senha_digitada = input('senha: ')\n",
    "senha_permitida = '1507'\n",
    "\n",
    "if entrada == 'rafa' and senha_digitada == senha_permitida:\n",
    "    print('Entrar')\n",
    "else:\n",
    "    print('Senha incorreta')    "
   ]
  },
  {
   "cell_type": "markdown",
   "metadata": {},
   "source": [
    "Operadores in e not in"
   ]
  },
  {
   "cell_type": "code",
   "execution_count": 4,
   "metadata": {},
   "outputs": [
    {
     "name": "stdout",
     "output_type": "stream",
     "text": [
      "Fernanda Vidal da Silva Albuquerque não está em Rafael \n"
     ]
    }
   ],
   "source": [
    "nome = input('digite seu nome: ')\n",
    "encontrar = input('Digite o que deseja encontrar: ')\n",
    "\n",
    "if encontrar in nome:\n",
    "    print(f'{encontrar} está em {nome}')\n",
    "else:\n",
    "    print(f'{encontrar} não está em {nome} ')\n"
   ]
  },
  {
   "cell_type": "markdown",
   "metadata": {},
   "source": [
    "Formatação de Strings com f-stings"
   ]
  },
  {
   "cell_type": "code",
   "execution_count": 6,
   "metadata": {},
   "outputs": [
    {
     "name": "stdout",
     "output_type": "stream",
     "text": [
      "ABC\n",
      "       ABC\n",
      "ABC       \n"
     ]
    }
   ],
   "source": [
    "variavel = 'ABC'\n",
    "print(f'{variavel}')\n",
    "print(f'{variavel: >10}')\n",
    "print(f'{variavel: <10}')"
   ]
  },
  {
   "cell_type": "markdown",
   "metadata": {},
   "source": [
    "Fatiamento de strings"
   ]
  },
  {
   "cell_type": "code",
   "execution_count": 10,
   "metadata": {},
   "outputs": [
    {
     "name": "stdout",
     "output_type": "stream",
     "text": [
      "Olá m\n"
     ]
    }
   ],
   "source": [
    "variavel = 'Olá mundo'\n",
    "print(variavel[0:5])"
   ]
  },
  {
   "cell_type": "markdown",
   "metadata": {},
   "source": [
    "Exercicio"
   ]
  },
  {
   "cell_type": "code",
   "execution_count": 5,
   "metadata": {},
   "outputs": [
    {
     "name": "stdout",
     "output_type": "stream",
     "text": [
      "Seu nome é Rafael de Brito albuquerque\n",
      "Seu nome invertido é euqreuqubla otirB ed leafaR\n",
      "Sua idade 41 anos\n",
      "Seu nome contém espaços\n",
      "seu nome tem 27 letras\n",
      "A ultima letra do seu nome é e\n"
     ]
    }
   ],
   "source": [
    "nome = input('Digite o seu nome: ')\n",
    "idade = input('Digite a sua idade: ')\n",
    "\n",
    "if nome and idade:\n",
    "    print(f'Seu nome é {nome}')\n",
    "    print(f'Seu nome invertido é {nome[::-1]}')\n",
    "    print(f'Sua idade {idade} anos')\n",
    "    \n",
    "    if ' ' in nome:\n",
    "        print('Seu nome contém espaços')\n",
    "    else: \n",
    "        print('Seu nome não contém espaços')\n",
    "\n",
    "    print(f'seu nome tem {len(nome)} letras')\n",
    "    print(f'A ultima letra do seu nome é {nome[-1]}')\n",
    "  \n",
    "\n",
    "\n",
    "else:\n",
    "    print(\"Desculpe, você deixou campos vazios.\")"
   ]
  },
  {
   "cell_type": "markdown",
   "metadata": {},
   "source": [
    "Introdução ao Try/execept"
   ]
  },
  {
   "cell_type": "code",
   "execution_count": 1,
   "metadata": {},
   "outputs": [
    {
     "name": "stdout",
     "output_type": "stream",
     "text": [
      "O dobro de 4 é 8.00\n"
     ]
    }
   ],
   "source": [
    "numero = input('vou dpbrar o número que vc digitar: ')\n",
    "\n",
    "numero_float = float(numero)\n",
    "print(f'O dobro de {numero} é {numero_float * 2:.2f}')"
   ]
  },
  {
   "cell_type": "markdown",
   "metadata": {},
   "source": [
    "Variáveis, constantes e complexidade de código\n",
    " - letra Maiuscula significa que o codigo não vai mudar;\n",
    " - complexidade é ruim.\n"
   ]
  },
  {
   "cell_type": "code",
   "execution_count": 29,
   "metadata": {},
   "outputs": [
    {
     "name": "stdout",
     "output_type": "stream",
     "text": [
      "Carro utrapassou a velocidade maxima no RADAR 1\n",
      "carro multado em radar 1\n",
      "120\n"
     ]
    }
   ],
   "source": [
    "velocidade = 120\n",
    "local_carro = 100\n",
    "\n",
    "RADAR_1 = 60\n",
    "LOCAL_1 = 100\n",
    "RADAR_RANGER = 1\n",
    "\n",
    "if velocidade > RADAR_1:\n",
    "    print('Carro utrapassou a velocidade maxima no RADAR 1')\n",
    "\n",
    "if local_carro >= (LOCAL_1 - RADAR_RANGER) and local_carro <= (LOCAL_1 + RADAR_RANGER) and velocidade > RADAR_1:\n",
    "    print('carro multado em radar 1')\n",
    "    print(velocidade) \n",
    "\n"
   ]
  },
  {
   "cell_type": "code",
   "execution_count": 9,
   "metadata": {},
   "outputs": [
    {
     "name": "stdout",
     "output_type": "stream",
     "text": [
      "Você não digitou um número inteiro\n"
     ]
    }
   ],
   "source": [
    "entrada = input('Digite um numero: ')\n",
    "if entrada.isdigit():\n",
    "    entrada_int = int(entrada)\n",
    "    par_impar = entrada_int % 2 == 0\n",
    "    par_impar_texto = 'ímpar'\n",
    "\n",
    "    if par_impar:\n",
    "        par_impar_texto = 'par'\n",
    "\n",
    "    print(f'O número {entrada_int} é {par_impar_texto}')\n",
    "\n",
    "else:\n",
    "    print('Você não digitou um número inteiro')\n"
   ]
  },
  {
   "cell_type": "code",
   "execution_count": 25,
   "metadata": {},
   "outputs": [
    {
     "name": "stdout",
     "output_type": "stream",
     "text": [
      "Hora não identificada\n"
     ]
    }
   ],
   "source": [
    "entrada = input('Digite a hora em números inteiros: ')\n",
    "\n",
    "try:\n",
    "    hora = int(entrada)\n",
    "\n",
    "    if hora >= 0 and hora <= 11:\n",
    "        print('Bom dia')\n",
    "\n",
    "    elif hora >= 12 and hora <= 17:\n",
    "        print('Boa Tarde')\n",
    "\n",
    "    elif hora >= 18 and hora <= 23:\n",
    "        print('Boa Noite')\n",
    "\n",
    "\n",
    "    else:\n",
    "        print('Hora não identificada')\n",
    "    \n",
    "except:\n",
    "    print('Por favor, digite apenas números inteiros')\n",
    " "
   ]
  },
  {
   "cell_type": "code",
   "execution_count": 30,
   "metadata": {},
   "outputs": [
    {
     "name": "stdout",
     "output_type": "stream",
     "text": [
      "Seu nome é muito grande\n"
     ]
    }
   ],
   "source": [
    "nome = input('Digite o seu primeiro nome: ')\n",
    "tamanho_nome = len(nome)\n",
    "\n",
    "if tamanho_nome >= 1:\n",
    "    if tamanho_nome <= 4:\n",
    "        print('Seu nome é curto')\n",
    "    elif tamanho_nome >= 5 and tamanho_nome <= 6:\n",
    "        print('Seu nome é normal')\n",
    "    else:\n",
    "        print('Seu nome é muito grande')\n",
    "\n",
    "else:\n",
    "    print('Porfavor, digite alguma coisa')"
   ]
  },
  {
   "cell_type": "markdown",
   "metadata": {},
   "source": [
    "Estruturas de repetição (While)"
   ]
  },
  {
   "cell_type": "code",
   "execution_count": 1,
   "metadata": {},
   "outputs": [
    {
     "name": "stdout",
     "output_type": "stream",
     "text": [
      "Seu nome é rafael\n",
      "Seu nome é rafael\n",
      "Seu nome é rafael\n",
      "Seu nome é rafael\n",
      "Seu nome é sair\n"
     ]
    }
   ],
   "source": [
    "condicao = True\n",
    "\n",
    "while condicao:\n",
    "    nome = input('Qual o seu nome: ')\n",
    "    print(f'Seu nome é {nome}')\n",
    "\n",
    "    if nome == 'sair':\n",
    "        break"
   ]
  },
  {
   "cell_type": "code",
   "execution_count": 2,
   "metadata": {},
   "outputs": [
    {
     "name": "stdout",
     "output_type": "stream",
     "text": [
      "1\n",
      "2\n",
      "3\n",
      "4\n",
      "5\n",
      "acabou\n"
     ]
    }
   ],
   "source": [
    "contador  = 0\n",
    "\n",
    "while contador < 5:\n",
    "    contador = contador + 1\n",
    "    print(contador)\n",
    "\n",
    "print('acabou')\n",
    "\n"
   ]
  },
  {
   "cell_type": "code",
   "execution_count": 3,
   "metadata": {},
   "outputs": [
    {
     "name": "stdout",
     "output_type": "stream",
     "text": [
      "1\n",
      "2\n",
      "3\n",
      "4\n",
      "5\n",
      "não vou mostrar o 6.\n",
      "7\n",
      "8\n",
      "9\n",
      "10\n",
      "11\n",
      "12\n",
      "13\n",
      "14\n",
      "15\n",
      "16\n",
      "acabou\n"
     ]
    }
   ],
   "source": [
    "contador  = 0\n",
    "\n",
    "while contador <= 15:\n",
    "    contador += 1\n",
    "\n",
    "    if contador == 6:\n",
    "        print('não vou mostrar o 6.')\n",
    "        continue\n",
    "\n",
    "    print(contador)\n",
    "\n",
    "print('acabou')\n"
   ]
  },
  {
   "cell_type": "markdown",
   "metadata": {},
   "source": [
    "While dentro de while"
   ]
  },
  {
   "cell_type": "code",
   "execution_count": 11,
   "metadata": {},
   "outputs": [
    {
     "name": "stdout",
     "output_type": "stream",
     "text": [
      "linha=1 coluna=1\n",
      "linha=1 coluna=2\n",
      "linha=1 coluna=3\n",
      "linha=1 coluna=4\n",
      "linha=1 coluna=5\n",
      "linha=2 coluna=1\n",
      "linha=2 coluna=2\n",
      "linha=2 coluna=3\n",
      "linha=2 coluna=4\n",
      "linha=2 coluna=5\n",
      "linha=3 coluna=1\n",
      "linha=3 coluna=2\n",
      "linha=3 coluna=3\n",
      "linha=3 coluna=4\n",
      "linha=3 coluna=5\n",
      "linha=4 coluna=1\n",
      "linha=4 coluna=2\n",
      "linha=4 coluna=3\n",
      "linha=4 coluna=4\n",
      "linha=4 coluna=5\n",
      "linha=5 coluna=1\n",
      "linha=5 coluna=2\n",
      "linha=5 coluna=3\n",
      "linha=5 coluna=4\n",
      "linha=5 coluna=5\n",
      "Acabou\n"
     ]
    }
   ],
   "source": [
    "qtd_linhas = 5\n",
    "qtd_colunas = 5\n",
    "\n",
    "linha = 1\n",
    "while linha <= qtd_linhas:\n",
    "    coluna = 1\n",
    "    while coluna <= qtd_colunas:\n",
    "\n",
    "        print(f'{linha=} {coluna=}')\n",
    "\n",
    "        coluna += 1\n",
    "\n",
    "    linha +=1\n",
    "\n",
    "\n",
    "print('Acabou')   "
   ]
  },
  {
   "cell_type": "code",
   "execution_count": 14,
   "metadata": {},
   "outputs": [
    {
     "name": "stdout",
     "output_type": "stream",
     "text": [
      "Rafael de Brito\n",
      "15\n",
      "e\n"
     ]
    }
   ],
   "source": [
    "nome = 'Rafael de Brito'\n",
    "tamanho_nome = len(nome)\n",
    "print(nome)\n",
    "print(tamanho_nome)\n",
    "print(nome[4])"
   ]
  },
  {
   "cell_type": "code",
   "execution_count": 20,
   "metadata": {},
   "outputs": [
    {
     "name": "stdout",
     "output_type": "stream",
     "text": [
      "*M*a*r*i*a*n*a\n"
     ]
    }
   ],
   "source": [
    "nome = 'Mariana'\n",
    "\n",
    "indice = 0\n",
    "novo_nome = ''\n",
    "while indice < len(nome):\n",
    "    letra = nome[indice]\n",
    "    novo_nome += f'*{letra}'\n",
    "    indice += 1\n",
    "\n",
    "print(novo_nome)"
   ]
  },
  {
   "cell_type": "markdown",
   "metadata": {},
   "source": [
    "Calculadora com While"
   ]
  },
  {
   "cell_type": "code",
   "execution_count": 18,
   "metadata": {},
   "outputs": [
    {
     "name": "stdout",
     "output_type": "stream",
     "text": [
      "2\n"
     ]
    }
   ],
   "source": [
    "frase = 'O Python é uma linguagem de programação. Python foi criado por Guido Van Rossum'\n",
    "\n",
    "print(frase.count('Python'))\n"
   ]
  },
  {
   "cell_type": "code",
   "execution_count": 20,
   "metadata": {},
   "outputs": [
    {
     "name": "stdout",
     "output_type": "stream",
     "text": [
      "A letra que apareceu mais vezes foi \"o\" que apareceu 9x\n"
     ]
    }
   ],
   "source": [
    "frase = 'O Python é uma linguagem de programação. Python foi criado por Guido Van Rossum'\n",
    "\n",
    "i = 0\n",
    "qtd_apareceu_mais_vezes = 0\n",
    "letra_apareceu_mais_vezes = ''\n",
    "\n",
    "while i < len(frase):\n",
    "    letra_atual = frase[i]\n",
    "\n",
    "    if letra_atual == ' ':\n",
    "        i += 1\n",
    "        continue\n",
    "\n",
    "    qtd_atual = frase.count(letra_atual)\n",
    "\n",
    "    if qtd_apareceu_mais_vezes <= qtd_atual:\n",
    "        qtd_apareceu_mais_vezes = qtd_atual\n",
    "        letra_apareceu_mais_vezes = letra_atual\n",
    "\n",
    "    i += 1\n",
    "\n",
    "print(\n",
    "    'A letra que apareceu mais vezes foi '\n",
    "    f'\"{letra_apareceu_mais_vezes}\" que apareceu '\n",
    "    f'{qtd_apareceu_mais_vezes}x'\n",
    ")"
   ]
  },
  {
   "cell_type": "markdown",
   "metadata": {},
   "source": [
    "Estrutura de repetição FOR"
   ]
  },
  {
   "cell_type": "code",
   "execution_count": 1,
   "metadata": {},
   "outputs": [
    {
     "name": "stdout",
     "output_type": "stream",
     "text": [
      "P\n",
      "y\n",
      "t\n",
      "h\n",
      "o\n",
      "n\n"
     ]
    }
   ],
   "source": [
    "texto = 'Python'\n",
    "\n",
    "for letra in texto:\n",
    "    print(letra)"
   ]
  },
  {
   "cell_type": "markdown",
   "metadata": {},
   "source": [
    "RANGE   (start,   stop,   step)"
   ]
  },
  {
   "cell_type": "code",
   "execution_count": 2,
   "metadata": {},
   "outputs": [
    {
     "name": "stdout",
     "output_type": "stream",
     "text": [
      "range(0, 10)\n"
     ]
    }
   ],
   "source": [
    "numeros = range(10)\n",
    "print(numeros)"
   ]
  },
  {
   "cell_type": "code",
   "execution_count": 3,
   "metadata": {},
   "outputs": [
    {
     "name": "stdout",
     "output_type": "stream",
     "text": [
      "0\n",
      "8\n",
      "16\n",
      "24\n",
      "32\n",
      "40\n",
      "48\n",
      "56\n",
      "64\n",
      "72\n",
      "80\n",
      "88\n",
      "96\n"
     ]
    }
   ],
   "source": [
    "numeros = range(0, 100, 8)\n",
    "\n",
    "for numero in numeros:\n",
    "    print(numero)"
   ]
  },
  {
   "cell_type": "code",
   "execution_count": 3,
   "metadata": {},
   "outputs": [],
   "source": [
    "import os"
   ]
  },
  {
   "cell_type": "code",
   "execution_count": 4,
   "metadata": {},
   "outputs": [
    {
     "name": "stdout",
     "output_type": "stream",
     "text": [
      "Palavra formada: *******\n",
      "Palavra formada: p******\n",
      "Palavra formada: pe****e\n",
      "Palavra formada: per***e\n",
      "Palavra formada: perf**e\n",
      "Palavra formada: perfu*e\n",
      "Palavra formada: perfume\n",
      "VOCÊ GANHOU!! PARABÉNS!\n",
      "A palavra era perfume\n",
      "Tentativas: 7\n",
      "Palavra formada: *******\n",
      "Palavra formada: *******\n",
      "Digite apenas uma letra.\n",
      "Digite apenas uma letra.\n"
     ]
    }
   ],
   "source": [
    "palavra_secreta = 'perfume'\n",
    "letras_acertadas = ''\n",
    "numero_tentativas = 0\n",
    "\n",
    "while True:\n",
    "    letra_digitada = input('Digite uma letra: ')\n",
    "    numero_tentativas += 1\n",
    "\n",
    "    if len(letra_digitada) > 1:\n",
    "        print('Digite apenas uma letra.')\n",
    "        continue\n",
    "\n",
    "    if letra_digitada in palavra_secreta:\n",
    "        letras_acertadas += letra_digitada\n",
    "\n",
    "    palavra_formada = ''\n",
    "    for letra_secreta in palavra_secreta:\n",
    "        if letra_secreta in letras_acertadas:\n",
    "            palavra_formada += letra_secreta\n",
    "        else:\n",
    "            palavra_formada += '*'\n",
    "\n",
    "    print('Palavra formada:', palavra_formada)\n",
    "\n",
    "    if palavra_formada == palavra_secreta:\n",
    "        os.system('clear')\n",
    "        print('VOCÊ GANHOU!! PARABÉNS!')\n",
    "        print('A palavra era', palavra_secreta)\n",
    "        print('Tentativas:', numero_tentativas)\n",
    "        letras_acertadas = ''\n",
    "        numero_tentativas = 0"
   ]
  },
  {
   "cell_type": "markdown",
   "metadata": {},
   "source": [
    "Listas em python\n",
    "\n",
    "Métodos úteis:\n",
    "    append - Adiciona um item ao final\n",
    "    insert - Adiciona um item no índice escolhido\n",
    "    pop - Remove do final ou do índice escolhido\n",
    "    del - apaga um índice\n",
    "    clear - limpa a lista\n",
    "    extend - estende a lista\n",
    "    + - concatena listas\n",
    "Create Read Update   Delete\n",
    "Criar, ler, alterar, apagar = lista[i] (CRUD)"
   ]
  },
  {
   "cell_type": "code",
   "execution_count": 4,
   "metadata": {},
   "outputs": [
    {
     "name": "stdout",
     "output_type": "stream",
     "text": [
      "[10, 20, 30, 40, 'Luiz']\n"
     ]
    }
   ],
   "source": [
    "lista = [10, 20, 30, 40]\n",
    "lista.append('Luiz')\n",
    "print(lista)"
   ]
  },
  {
   "cell_type": "code",
   "execution_count": 1,
   "metadata": {},
   "outputs": [
    {
     "name": "stdout",
     "output_type": "stream",
     "text": [
      "[1, 2, 3, 4, 5, 6]\n"
     ]
    }
   ],
   "source": [
    "lista_a = [1, 2, 3]\n",
    "lista_b = [4, 5, 6]\n",
    "lista_c = lista_a + lista_b\n",
    "print(lista_c)"
   ]
  },
  {
   "cell_type": "code",
   "execution_count": 7,
   "metadata": {},
   "outputs": [
    {
     "name": "stdout",
     "output_type": "stream",
     "text": [
      "0 Maria <class 'str'>\n",
      "1 Helena <class 'str'>\n",
      "2 Luiz <class 'str'>\n"
     ]
    }
   ],
   "source": [
    "lista = ['Maria', 'Helena', 'Luiz']\n",
    "indices = range(len(lista))\n",
    "\n",
    "for indice in indices:\n",
    "    print(indice, lista[indice], type(lista[indice]))"
   ]
  },
  {
   "cell_type": "markdown",
   "metadata": {},
   "source": [
    "Desempacotamento + tuples"
   ]
  },
  {
   "cell_type": "code",
   "execution_count": 23,
   "metadata": {},
   "outputs": [
    {
     "name": "stdout",
     "output_type": "stream",
     "text": [
      "0 Maria\n",
      "1 Helena\n",
      "2 Luiz\n",
      "3 Mariana\n",
      "4 Mariana\n",
      "5 Mariana\n"
     ]
    }
   ],
   "source": [
    "nomes = ['Maria', 'Helena', 'Luiz', 'Mariana']\n",
    "\n",
    "for indice, nome in enumerate(lista):\n",
    "    print(indice, nome)"
   ]
  },
  {
   "cell_type": "code",
   "execution_count": 24,
   "metadata": {},
   "outputs": [
    {
     "name": "stdout",
     "output_type": "stream",
     "text": [
      "Selecione uma opção\n",
      "Selecione uma opção\n",
      "0 pão de queijo\n",
      "Selecione uma opção\n",
      "Selecione uma opção\n",
      "Selecione uma opção\n",
      "Selecione uma opção\n",
      "Selecione uma opção\n",
      "0 pão de queijo\n",
      "1 refrigerante\n",
      "2 agua\n",
      "3 caldo\n",
      "4 cachorro quente\n",
      "Selecione uma opção\n",
      "0 pão de queijo\n",
      "1 refrigerante\n",
      "2 agua\n",
      "3 caldo\n",
      "4 cachorro quente\n",
      "Selecione uma opção\n",
      "0 pão de queijo\n",
      "1 refrigerante\n",
      "2 agua\n",
      "3 caldo\n",
      "4 cachorro quente\n",
      "Selecione uma opção\n",
      "Por favor, escolha i, a ou l.\n",
      "Selecione uma opção\n",
      "Por favor, escolha i, a ou l.\n",
      "Selecione uma opção\n"
     ]
    }
   ],
   "source": [
    "import os\n",
    "\n",
    "lista = []\n",
    "\n",
    "while True:\n",
    "    print('Selecione uma opção')\n",
    "    opcao = input('[i]nserir [a]pagar [l]istar: ')\n",
    "\n",
    "    if opcao == 'i':\n",
    "        os.system('clear')\n",
    "        valor = input('Valor: ')\n",
    "        lista.append(valor)\n",
    "    elif opcao == 'a':\n",
    "        indice_str = input(\n",
    "            'Escolha o índice para apagar: '\n",
    "        )\n",
    "\n",
    "        try:\n",
    "            indice = int(indice_str)\n",
    "            del lista[indice]\n",
    "        except ValueError:\n",
    "            print('Por favor digite número int.')\n",
    "        except IndexError:\n",
    "            print('Índice não existe na lista')\n",
    "        except Exception:\n",
    "            print('Erro desconhecido')\n",
    "    elif opcao == 'l':\n",
    "        os.system('clear')\n",
    "\n",
    "        if len(lista) == 0:\n",
    "            print('Nada para listar')\n",
    "\n",
    "        for i, valor in enumerate(lista):\n",
    "            print(i, valor)\n",
    "    else:\n",
    "        print('Por favor, escolha i, a ou l.')"
   ]
  }
 ],
 "metadata": {
  "kernelspec": {
   "display_name": "Python 3",
   "language": "python",
   "name": "python3"
  },
  "language_info": {
   "codemirror_mode": {
    "name": "ipython",
    "version": 3
   },
   "file_extension": ".py",
   "mimetype": "text/x-python",
   "name": "python",
   "nbconvert_exporter": "python",
   "pygments_lexer": "ipython3",
   "version": "3.11.4"
  },
  "orig_nbformat": 4
 },
 "nbformat": 4,
 "nbformat_minor": 2
}
