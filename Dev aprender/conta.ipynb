{
 "cells": [
  {
   "cell_type": "code",
   "execution_count": 20,
   "metadata": {},
   "outputs": [
    {
     "name": "stdout",
     "output_type": "stream",
     "text": [
      "Saque utilizando saldo especial!\n",
      "Saldo Insuficiente\n"
     ]
    }
   ],
   "source": [
    "SALDO = 2000\n",
    "CHEQUE_ESPECIAL = 200\n",
    "\n",
    "saque = int(input(\"Informe o valor do saque: \"))\n",
    "\n",
    "if saque <= SALDO:\n",
    "    print(\"saque realizado com sucesso\")\n",
    "\n",
    "if saque > SALDO:\n",
    "    print(\"Saque utilizando saldo especial!\")\n",
    "\n",
    "if saque > SALDO + CHEQUE_ESPECIAL:\n",
    "    print(\"Saldo Insuficiente\")\n"
   ]
  },
  {
   "cell_type": "markdown",
   "metadata": {},
   "source": [
    "Tabuada do 5\n",
    "range(start, stop e step)"
   ]
  },
  {
   "cell_type": "code",
   "execution_count": 3,
   "metadata": {},
   "outputs": [
    {
     "name": "stdout",
     "output_type": "stream",
     "text": [
      "0 5 10 15 20 25 30 35 40 45 50 "
     ]
    }
   ],
   "source": [
    "for numero in range(0, 51, 5):\n",
    "    print(numero, end=\" \")"
   ]
  },
  {
   "cell_type": "code",
   "execution_count": 16,
   "metadata": {},
   "outputs": [
    {
     "name": "stdout",
     "output_type": "stream",
     "text": [
      "Obrigado por utilizar o nosso sistema, até logo\n"
     ]
    }
   ],
   "source": [
    "opcao = -1\n",
    "\n",
    "while opcao != 0:\n",
    "    opcao = int(input(\"[1] Sacar \\n[2] Extrato \\n[0] Sair \\n: \"))\n",
    "\n",
    "    if opcao == 1:\n",
    "        print(\"Sacando...\")\n",
    "    elif opcao == 2:\n",
    "        print(\"Exibindo o extrato...\")\n",
    "else: \n",
    "    print(\"Obrigado por utilizar o nosso sistema, até logo\")\n"
   ]
  },
  {
   "cell_type": "markdown",
   "metadata": {},
   "source": [
    "Utilizando Break"
   ]
  },
  {
   "cell_type": "code",
   "execution_count": 19,
   "metadata": {},
   "outputs": [
    {
     "name": "stdout",
     "output_type": "stream",
     "text": [
      "2\n",
      "4\n"
     ]
    }
   ],
   "source": [
    "while True:\n",
    "    numero = int(input(\"Informe um número: \"))\n",
    "\n",
    "    if numero == 10:\n",
    "        break\n",
    "        \n",
    "    print(numero)\n",
    "    \n"
   ]
  },
  {
   "cell_type": "code",
   "execution_count": 20,
   "metadata": {},
   "outputs": [
    {
     "name": "stdout",
     "output_type": "stream",
     "text": [
      "GUILHERME\n",
      "guilherme\n",
      "Guilherme\n"
     ]
    }
   ],
   "source": [
    "nome = \"guiLherme\"\n",
    "\n",
    "print(nome.upper())\n",
    "print(nome.lower())\n",
    "print(nome.title())"
   ]
  },
  {
   "cell_type": "markdown",
   "metadata": {},
   "source": [
    "Old style %"
   ]
  },
  {
   "cell_type": "code",
   "execution_count": 21,
   "metadata": {},
   "outputs": [
    {
     "name": "stdout",
     "output_type": "stream",
     "text": [
      "Olá, me chamo Rafael. eu tenho 41 anos de idade, trabalho como Administrador e estou matriculado no curso de Python.\n"
     ]
    }
   ],
   "source": [
    "nome = \"Rafael\"\n",
    "idade = 41\n",
    "profissao = \"Administrador\"\n",
    "linguagem = \"Python\"\n",
    "\n",
    "print(\"Olá, me chamo %s. eu tenho %d anos de idade, trabalho como %s e estou matriculado no curso de %s.\" %(nome, idade, profissao, linguagem))"
   ]
  },
  {
   "cell_type": "markdown",
   "metadata": {},
   "source": [
    "Método format"
   ]
  },
  {
   "cell_type": "code",
   "execution_count": 23,
   "metadata": {},
   "outputs": [
    {
     "name": "stdout",
     "output_type": "stream",
     "text": [
      "Olá, me chamo Rafael. eu tenho 41 anos de idade, trabalho como Administrador e estou matriculado no curso de Python.\n"
     ]
    }
   ],
   "source": [
    "nome = \"Rafael\"\n",
    "idade = 41\n",
    "profissao = \"Administrador\"\n",
    "linguagem = \"Python\"\n",
    "\n",
    "print(\"Olá, me chamo {}. eu tenho {} anos de idade, trabalho como {} e estou matriculado no curso de {}.\" .format(nome, idade, profissao, linguagem))"
   ]
  },
  {
   "cell_type": "markdown",
   "metadata": {},
   "source": [
    "F-string"
   ]
  },
  {
   "cell_type": "code",
   "execution_count": 1,
   "metadata": {},
   "outputs": [
    {
     "name": "stdout",
     "output_type": "stream",
     "text": [
      "Olá, me chamo Rafael. eu tenho 41 anos de idade, trabalho como Administrador e estou matriculado no curso de Python.\n"
     ]
    }
   ],
   "source": [
    "nome = \"Rafael\"\n",
    "idade = 41\n",
    "profissao = \"Administrador\"\n",
    "linguagem = \"Python\"\n",
    "\n",
    "print(f\"Olá, me chamo {nome}. eu tenho {idade} anos de idade, trabalho como {profissao} e estou matriculado no curso de {linguagem}.\" )"
   ]
  },
  {
   "cell_type": "markdown",
   "metadata": {},
   "source": [
    "Strings triplas"
   ]
  },
  {
   "cell_type": "code",
   "execution_count": 10,
   "metadata": {},
   "outputs": [
    {
     "name": "stdout",
     "output_type": "stream",
     "text": [
      "\n",
      "    Olá meu nome é Rafael\n",
      "Eu estou aprendendo python.\n",
      "    Essa mensagem tem diferentes recuos.\n",
      "\n",
      "\n",
      "      ########### MENU ##############\n",
      "      1 - SACAR\n",
      "      2 - DEPOSITAR        \n",
      "\n",
      "      #################################\n",
      "\n",
      "      \n"
     ]
    }
   ],
   "source": [
    "nome = \"Rafael\"\n",
    "\n",
    "mensagem = f\"\"\"\n",
    "    Olá meu nome é {nome}\n",
    "Eu estou aprendendo python.\n",
    "    Essa mensagem tem diferentes recuos.\n",
    "\"\"\"\n",
    "\n",
    "print(mensagem)\n",
    "\n",
    "\n",
    "print(\n",
    "    \"\"\"\n",
    "      ########### MENU ##############\n",
    "      1 - SACAR\n",
    "      2 - DEPOSITAR        \n",
    "\n",
    "      #################################\n",
    "\n",
    "      \"\"\"      \n",
    "      )"
   ]
  }
 ],
 "metadata": {
  "kernelspec": {
   "display_name": "Python 3",
   "language": "python",
   "name": "python3"
  },
  "language_info": {
   "codemirror_mode": {
    "name": "ipython",
    "version": 3
   },
   "file_extension": ".py",
   "mimetype": "text/x-python",
   "name": "python",
   "nbconvert_exporter": "python",
   "pygments_lexer": "ipython3",
   "version": "3.11.4"
  }
 },
 "nbformat": 4,
 "nbformat_minor": 2
}
