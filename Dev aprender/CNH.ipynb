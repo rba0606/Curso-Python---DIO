{
 "cells": [
  {
   "cell_type": "code",
   "execution_count": 18,
   "metadata": {},
   "outputs": [
    {
     "name": "stdout",
     "output_type": "stream",
     "text": [
      "Maior de idade, pode tirar a CNH.\n"
     ]
    }
   ],
   "source": [
    "MAIOR_IDADE = 18\n",
    "\n",
    "idade = int(input(\"Informe sua idade: \"))\n",
    "\n",
    "if idade >= MAIOR_IDADE:\n",
    "    print(\"Maior de idade, pode tirar a CNH.\")\n",
    "\n",
    "if idade < MAIOR_IDADE:\n",
    "    print(\"Ainda não pode tirar a CNH\")\n"
   ]
  },
  {
   "cell_type": "code",
   "execution_count": 17,
   "metadata": {},
   "outputs": [
    {
     "name": "stdout",
     "output_type": "stream",
     "text": [
      "Maior de idade, pode tirar a CNH\n"
     ]
    }
   ],
   "source": [
    "MAIOR_IDADE = 18\n",
    "\n",
    "idade = int(input(\"Informe sua idade: \"))\n",
    "\n",
    "if idade >= MAIOR_IDADE:\n",
    "    print(\"Maior de idade, pode tirar a CNH\")\n",
    "else:\n",
    "    print(\"Ainda não pode tirar a CNH\")"
   ]
  },
  {
   "cell_type": "code",
   "execution_count": 22,
   "metadata": {},
   "outputs": [
    {
     "name": "stdout",
     "output_type": "stream",
     "text": [
      "Ainda não pode tirar a CNH.\n"
     ]
    }
   ],
   "source": [
    "MAIOR_IDADE = 18\n",
    "IDADE_ESPECIAL = 12\n",
    "\n",
    "idade = int(input(\"Informe sua idade: \"))\n",
    "\n",
    "if idade >= MAIOR_IDADE:\n",
    "    print(\"Maior de idade, pode tirar a CNH\")\n",
    "elif idade == IDADE_ESPECIAL:\n",
    "    print(\"Pode fazer aulas teóricas, mas não pode fazer aulas práticas.\")\n",
    "else: \n",
    "    print(\"Ainda não pode tirar a CNH.\")"
   ]
  }
 ],
 "metadata": {
  "kernelspec": {
   "display_name": "Python 3",
   "language": "python",
   "name": "python3"
  },
  "language_info": {
   "codemirror_mode": {
    "name": "ipython",
    "version": 3
   },
   "file_extension": ".py",
   "mimetype": "text/x-python",
   "name": "python",
   "nbconvert_exporter": "python",
   "pygments_lexer": "ipython3",
   "version": "3.11.4"
  }
 },
 "nbformat": 4,
 "nbformat_minor": 2
}
